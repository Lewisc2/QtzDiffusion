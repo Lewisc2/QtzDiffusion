{
 "cells": [
  {
   "cell_type": "code",
   "execution_count": 41,
   "id": "79b35ae6-1a41-4f23-8bc9-ab3055e34f15",
   "metadata": {},
   "outputs": [],
   "source": [
    "import numpy as np\n",
    "import pandas as pd\n",
    "import matplotlib.pyplot as plt"
   ]
  },
  {
   "cell_type": "code",
   "execution_count": 117,
   "id": "741d64a0-9e98-49e1-94ee-19c308d9624b",
   "metadata": {},
   "outputs": [],
   "source": [
    "path = '/Users/ctlewis/Documents/Programs_Coding/Tavazannietal_2020_TIinqtz.xlsx'\n",
    "sheet = 'Sheet1'\n",
    "\n",
    "# import dataset\n",
    "data = pd.read_excel(path,\n",
    "                     sheet_name=sheet)\n",
    "data.head()\n",
    "data = data.groupby('Crystal')"
   ]
  },
  {
   "cell_type": "code",
   "execution_count": 131,
   "id": "56bf1d8f-d062-4403-a049-fe64cdb0ac91",
   "metadata": {},
   "outputs": [],
   "source": [
    "C1_L1 = data.get_group('C1-L1')\n",
    "C1_L1 = C1_L1[C1_L1['dist'] <= 440]\n",
    "C1_L1 = C1_L1.reset_index()"
   ]
  },
  {
   "cell_type": "code",
   "execution_count": 132,
   "id": "15e10700-6882-4c80-82dd-3d7f27aaf24c",
   "metadata": {},
   "outputs": [
    {
     "data": {
      "text/plain": [
       "<ErrorbarContainer object of 3 artists>"
      ]
     },
     "execution_count": 132,
     "metadata": {},
     "output_type": "execute_result"
    },
    {
     "data": {
      "image/png": "[encoded data removed]",
      "text/plain": [
       "<Figure size 720x432 with 1 Axes>"
      ]
     },
     "metadata": {
      "needs_background": "light"
     },
     "output_type": "display_data"
    }
   ],
   "source": [
    "# turn the data of interest into a 1D array\n",
    "Ti = C1_L1.Ti\n",
    "# L = np.array(q3_17_31.dist_um)\n",
    "# L = np.flip(L)\n",
    "# unc = 2.5 #uncertainty (please propogate)\n",
    "\n",
    "# set the resolution of your data (distance between spots) \n",
    "resolution = 6 # um\n",
    "L = np.linspace(0,(len(Ti)-1)*resolution,len(Ti)) # an array containing x data from start to finish\n",
    "                                                  # This is used for setting up your mesh later\n",
    "    \n",
    "\n",
    "#plot measured profile\n",
    "fig,ax = plt.subplots(figsize=(10,6))\n",
    "ax.errorbar(L,Ti,yerr=C1_L1.err,fmt='o',mfc='slategray',mec='k',ecolor='k')"
   ]
  },
  {
   "cell_type": "code",
   "execution_count": null,
   "id": "cf1fc331-5fc6-4f46-a015-1b142019abac",
   "metadata": {},
   "outputs": [],
   "source": []
  },
  {
   "cell_type": "code",
   "execution_count": 133,
   "id": "a35cfdf2-20ee-4a9e-84de-908745dc0768",
   "metadata": {},
   "outputs": [],
   "source": [
    "# spots from the interior point to where you want your initial step function to be (python starts counting at 0)\n",
    "xth_spot = 12\n",
    "x_core = L[xth_spot] # core side\n",
    "dx = resolution\n",
    "x_core_mesh = int(x_core/dx) # the ith point in your x-value mesh that will diffuse\n",
    "\n",
    "C_core = Ti[xth_spot] # core side concentration\n",
    "C_rim = Ti[xth_spot-1] # rim side concentration\n",
    "\n",
    "#initial condition\n",
    "u_n = np.zeros(len(L)) # Creates an array of appropriate size to set your initial condition for concentration\n",
    "                        # This is u at the t-1 (i.e., previous) time. Also used to set initial condition\n",
    "u_n[:x_core_mesh] = 30 # Set a constant concentration on the core side of the crystal\n",
    "u_n[x_core_mesh:] = 140 # Set a constant concentration on the rim side of the crystal\n",
    "\n",
    "# def get_initialprofile(Ti,dist,resolution,x_thspot):\n",
    "#     \"\"\"\n",
    "#     \"\"\"\n",
    "#     L = np.array(dist)\n",
    "#     x_core = L[xth_spot]\n",
    "#     dx = resolution\n",
    "#     x_core_mesh = int(x_core/dx)\n",
    "#     C_core = Ti[xth_spot]\n",
    "#     C_rim = Ti[xth_spot-1]\n",
    "#     u_n = np.zeros(len(L))\n",
    "#     u_n[:x_core_mesh] = C_core\n",
    "#     u_n[x_core_mesh:] = C_rim\n",
    "    \n",
    "#     return u_n"
   ]
  },
  {
   "cell_type": "code",
   "execution_count": 134,
   "id": "19c3f1c8-8911-4de9-9f47-61899e493286",
   "metadata": {},
   "outputs": [
    {
     "data": {
      "text/plain": [
       "[<matplotlib.lines.Line2D at 0x7f9c46db8820>]"
      ]
     },
     "execution_count": 134,
     "metadata": {},
     "output_type": "execute_result"
    },
    {
     "data": {
      "image/png": "[encoded data removed]",
      "text/plain": [
       "<Figure size 720x432 with 1 Axes>"
      ]
     },
     "metadata": {
      "needs_background": "light"
     },
     "output_type": "display_data"
    }
   ],
   "source": [
    "# plot your data and the initial profile\n",
    "fig,ax = plt.subplots(figsize=(10,6))\n",
    "ax.errorbar(L,Ti,yerr=C1_L1.err,fmt='o',mfc='slategray',mec='k',ecolor='k')\n",
    "ax.plot(L,u_n,'-',marker='o',color='slategray')"
   ]
  },
  {
   "cell_type": "code",
   "execution_count": 135,
   "id": "9bd9fb81-a466-4ae8-82ba-0e4a81367ea9",
   "metadata": {},
   "outputs": [],
   "source": [
    "# set up your time mesh that you will use to run the diffusion model\n",
    "def time_mesh(maxtime,iterations,timeunit='years'):\n",
    "    \"\"\"\n",
    "    Create a time mesh for your model.\n",
    "    Function converts your chosen unit into seconds in order to keep units consistent in\n",
    "    the function below.\n",
    "    \n",
    "    Inputs:\n",
    "    maxtime: The maximum amount of time you want the model to run\n",
    "    iterations: How many steps you want between the start time and Maxtime.\n",
    "    timeunit: The unit you used in the inputs above\n",
    "    \n",
    "    Returns\n",
    "    t: a 1D array that has your maxtime split by n+1 interations\n",
    "    \"\"\"\n",
    "    if timeunit == 'years':\n",
    "        step = 60 * 60 * 24 * 365.25\n",
    "    elif timeunit == 'months':\n",
    "        step = (60 * 60 * 24 * 365.25)/12\n",
    "    elif timeunit == 'days':\n",
    "        step = 60 * 60 * 24\n",
    "    elif timeunit == 'hours':\n",
    "        step = (60 * 60 * 24 * 365.25)/8760\n",
    "    elif timeunit == 'seconds':\n",
    "        step = (60 * 60 * 24 * 365.25)/3.154e7\n",
    "    \n",
    "    t = np.linspace(0,maxtime*step,int(iterations+1))\n",
    "    return t"
   ]
  },
  {
   "cell_type": "code",
   "execution_count": 154,
   "id": "47f29580-f635-469e-8ca2-37d390ebc2ed",
   "metadata": {},
   "outputs": [
    {
     "data": {
      "text/plain": [
       "4001"
      ]
     },
     "execution_count": 154,
     "metadata": {},
     "output_type": "execute_result"
    }
   ],
   "source": [
    "t = time_mesh(1000000,4000,'years')\n",
    "len(t)"
   ]
  },
  {
   "cell_type": "code",
   "execution_count": 155,
   "id": "771291af-c4c7-464c-8463-35b6f6049c76",
   "metadata": {},
   "outputs": [],
   "source": [
    "def Tiinqtz_diffusion_1D(Ti,resolution,xth_spot,t,T,D='default',C_core='default',C_rim='default'):\n",
    "    \"\"\"\n",
    "    Run a 1D Ti in quartz diffusion model based on a forward Euler scheme with a boundary condition determined by the user.\n",
    "    In the simplest since, the model solves u for matrices of type A * u = b, \n",
    "    where u is unknown, A is a matrix of mesh points in the x (nx) and time (nt) dimensions, \n",
    "    and b is vector of knowns that gets updated as time moves forward.\n",
    "    \n",
    "    The forward Euler scheme is the forward finite difference scheme of Fick's second law:\n",
    "    \n",
    "    d/dt C(x,t) = D d/dx^2 C(x,t)\n",
    "    \n",
    "    where t is time, x is distance, D is the diffusion coefficient, and C(x,t) is the concentration as a function\n",
    "    of distance and time. If you wish to have an open boundary with the diffiusion coefficient dependent on the\n",
    "    concentration, this goes as:\n",
    "    \n",
    "    d/dt C(x,t) = d/dx D d/dx C(x,t) + D d/dx^2 C(x,t)\n",
    "    \n",
    "    Inputs:\n",
    "    Ti: Slice of a Pandas dataframe or python list containing your Qtz data\n",
    "    Resolution: Distance between measurements on your crystal (µm)\n",
    "    xth_spot: The spot from the interior (core) point where you want the step function to be located. Note python\n",
    "              starts counting at zero.\n",
    "    t: A 1d array that is output from the time_mesh function above\n",
    "    T: Temperature (K)\n",
    "    D: Method to calculate diffusion coefficient from published literature. Defaults to Audetat et al. (2021). Other\n",
    "    input options include 'J' for Jollands et al. (2020) and 'C' for Cherniak et al. (2007).\n",
    "    u_n: Initial data profile output from the function above\n",
    "    C_core: Boundary condition for the concentration at the core side of your crystal. If you input a value, this is\n",
    "            the boundary condition for recalculating Di at each timestep. The default is the Fo concentration at the\n",
    "            x_thspot you input above\n",
    "    C_rim: Similar to C_core but for the next distance step forward.\n",
    "    \n",
    "    Returns:\n",
    "    F: The mesh Fourier number. This is a measure of your numerical stability. You will get an error warning you if\n",
    "       the numerical model is unstable.\n",
    "    solutions: A set of numpy arrays containing the concentration solution for each timestep\n",
    "    Di_arrays: A set of numpy arrays containing the solutions to the Di at each timestep\n",
    "    \"\"\"\n",
    "    Ti = Ti.to_numpy() # Ti content for olivine\n",
    "\n",
    "    L = np.linspace(0,(len(Ti)-1)*resolution,len(Ti))\n",
    "    # L = np.flip(L)\n",
    "    nx = len(L)\n",
    "    dx = L[1] - L[0]\n",
    "    x_core = L[xth_spot]\n",
    "    x_core_mesh = int(x_core/dx)\n",
    "    \n",
    "    dt = t[1] - t[0]\n",
    "    iterations = len(t)-1\n",
    "    nt = len(t)\n",
    "    \n",
    "    solutions = np.zeros((nt,nx))\n",
    "    u = np.zeros(len(L))\n",
    "    \n",
    "    if C_core == 'default':\n",
    "        C_core = Ti[xth_spot-1]\n",
    "    elif C_core > 0:\n",
    "        Ti[0] = C_core\n",
    "    if C_rim == 'default':\n",
    "        C_rim = Ti[xth_spot]\n",
    "    elif C_rim > 0:\n",
    "        Ti[-1] = C_rim\n",
    "        \n",
    "    u_n = np.zeros(len(L))\n",
    "    u_n[:x_core_mesh] = C_core\n",
    "    u_n[x_core_mesh:] = C_rim\n",
    "    \n",
    "    if D == 'default':\n",
    "        Di = (10**(-11.31-((262.0*1000)/(2.303*8.3144*T))))*10e12\n",
    "    elif D == 'J':\n",
    "        Di = (10**(-8.3-((311.0*1000)/(2.303*8.3144*T))))*10e12\n",
    "    elif D == 'C':\n",
    "        Di = (7e-8*np.exp((-273.0*1000)/(8.3144*T)))*10e12\n",
    "    else:\n",
    "        print('There is something wrong with the input value for D')\n",
    "        \n",
    "    for i in range(0,int(nt)):\n",
    "        import time; t0 = time.perf_counter()\n",
    "        u[1:nx-1] = u_n[1:nx-1] + ((Di)*(u_n[2:nx]-u_n[1:nx-1])+Di*(u_n[2:nx]-2*u_n[1:nx-1]+u_n[0:nx-2]))*(dt/(dx**2))\n",
    "        # u[1:nx-1] = u_n[1:nx-1] + Di*dt*(((u_n[2:nx]-u_n[1:nx-1])+(u_n[2:nx]-2*u_n[1:nx-1]+u_n[0:nx-2]))/(dx**2))\n",
    "        u[0] = C_core; u[-1] = C_rim\n",
    "        solutions[i,:] = u\n",
    "        u_n[:] = u\n",
    "        t1 = time.perf_counter()\n",
    "\n",
    "    F = Di*dt/dx**2\n",
    "    if F > 0.5:\n",
    "        print('Mesh Fourier Number is too high causing instability in the model. Decrease dt')\n",
    "\n",
    "    return solutions, F,Di"
   ]
  },
  {
   "cell_type": "code",
   "execution_count": 156,
   "id": "7021ef2b-8fa3-47a7-a661-7273473e9ead",
   "metadata": {},
   "outputs": [],
   "source": [
    "T = 819.0+273 # Temperature (K)\n",
    "\n",
    "\n",
    "#%timeit solutions, F, D = Tiinqtz_diffusion_1D(Ti,6,12,t,T,D='C',C_core=55,C_rim=25)\n",
    "solutions, F, D = Tiinqtz_diffusion_1D(Ti,20,12,t,T,D='default',C_core=30,C_rim=140)"
   ]
  },
  {
   "cell_type": "code",
   "execution_count": 157,
   "id": "c5630d3c-868e-4946-8cff-cb02cc7ab680",
   "metadata": {},
   "outputs": [],
   "source": [
    "def least_squaredresiduals(solutions,Ti):\n",
    "    \"\"\"\n",
    "    Function for finding the best fit by least squared residuals\n",
    "    ---\n",
    "    Inputs:\n",
    "    solutions: numpy array output from the diffusion model\n",
    "    Fo: your data. Same input as that you used for the diffusion model\n",
    "    \"\"\"\n",
    "    \n",
    "    from scipy.signal import argrelextrema # import package to find local minima / maxima\n",
    "    \n",
    "    L = np.linspace(0,(len(Ti)-1)*resolution,len(Ti)) # make an array\n",
    "    nx = len(L) # set the length over which you will calculate the least squares\n",
    "    \n",
    "    least_residuals_fit = np.zeros_like(solutions) # make an array of zeros to be filled by the function below\n",
    "    \n",
    "    # make a loop to calculate the least squares. this iterates through all sets of solutions (i) that were calculated\n",
    "    # at time t_i along the length of your diffusion profile (nx, above; defined as the kth spot below)\n",
    "    for i in range(0,len(solutions)):\n",
    "        for k in range(0,int(nx)):\n",
    "            least_residuals_fit[i,k] = (solutions[i,k]-Ti[k])**2 / Ti[k]\n",
    "    \n",
    "    summed_residuals = np.sum(least_residuals_fit,axis=1) # sum calculated squared residuals along the length of solutions\n",
    "    min_residuals = np.min(summed_residuals) # find the solution with the minimum residual\n",
    "    locbestfit = np.argwhere(summed_residuals == min_residuals).item() # locate which solution that is\n",
    "    bestfit_solution = solutions[locbestfit] # set that solution as the 'best fit solution'\n",
    "    \n",
    "    # Flag your solution sets to see if there are local minima. May need to make a judgement call if so\n",
    "    localminima = summed_residuals[argrelextrema(summed_residuals, np.less)[0]]\n",
    "    if len(localminima) > 1:\n",
    "        print('You have more than one minima. You need to manually check all local minima to determine best fit')\n",
    "    \n",
    "    return min_residuals, bestfit_solution, locbestfit, summed_residuals, localminima\n",
    "\n",
    "#%timeit min_residuals, bestfit_solution, locbestfit, summed_residuals, localminima = least_squaredresiduals(solutions,Fo)\n",
    "min_residuals, bestfit_solution, locbestfit, summed_residuals, localminima = least_squaredresiduals(solutions,Ti)"
   ]
  },
  {
   "cell_type": "code",
   "execution_count": 158,
   "id": "d0c3c05c-277a-4994-8b57-5acf8cff02a4",
   "metadata": {},
   "outputs": [
    {
     "data": {
      "text/plain": [
       "10776920400000.0"
      ]
     },
     "execution_count": 158,
     "metadata": {},
     "output_type": "execute_result"
    }
   ],
   "source": [
    "t[locbestfit]"
   ]
  },
  {
   "cell_type": "code",
   "execution_count": null,
   "id": "bf6ff8e7-3c32-412a-9ec9-cf178eac17cc",
   "metadata": {},
   "outputs": [
    {
     "data": {
      "text/plain": [
       "Text(0.5, 1.0, 'C1-L1, Audetat D, 819°C')"
      ]
     },
     "execution_count": 160,
     "metadata": {},
     "output_type": "execute_result"
    }
   ],
   "source": [
    "fig, ax = plt.subplots(2,1, figsize=(10,12))\n",
    "\n",
    "ax[0].plot(L,u_n,'-',color='slategray',lw=0.5,label='Initial Profile')\n",
    "linestyle = {\"linestyle\":\"-\", \"linewidth\":1, \"color\":'slategray'}\n",
    "ax[0].errorbar(L,Ti,yerr=C1_L1.err,fmt='o',mfc='slategray',mec='k',ecolor='k',**linestyle,label='Observed')\n",
    "ax[0].plot(L,solutions[locbestfit,:],'-',color='darkkhaki',lw=1.5,label='Best Fit')\n",
    "ax[0].plot(L,solutions[-1,:],'-',color='darkblue',lw=1,label='t$_{end}$')\n",
    "ax[0].text(0.6,0.1,'Best Fit Time = ' + str(round(t[locbestfit]/3.154e7,3)) + ' Years',transform=ax[0].transAxes,fontsize=12)\n",
    "\n",
    "ax[0].set_xlabel('Dist (µm)',fontsize=14)\n",
    "ax[0].set_ylabel('Ti (ppm)',fontsize=14)\n",
    "ax[0].legend(loc='best',fontsize=12)\n",
    "\n",
    "\n",
    "for i in range(0,len(summed_residuals)):\n",
    "    ax[1].plot(t,summed_residuals,color='slategray')\n",
    "ax[1].plot([t[locbestfit],t[locbestfit]],[0,max(summed_residuals)+10],'-',label='Best Fit',color='darkkhaki')\n",
    "\n",
    "ax[1].set_ylim(min(summed_residuals)-2,max(summed_residuals)+2)\n",
    "ax[1].set_xlabel('t (s)',fontsize=14)\n",
    "ax[1].set_ylabel('$\\Sigma$ Least Squares',fontsize=14)\n",
    "ax[1].legend(loc='best')\n",
    "ax[1].text(0.5,0.15,'# Iterations = 4000',transform=ax[1].transAxes,fontsize=12)\n",
    "\n",
    "ax[0].set_title('C1-L1, Audetat D, 819°C',fontsize=14)\n",
    "\n",
    "# plt.savefig('C1-L1, Audetat D, 819',format='pdf',dpi=250)"
   ]
  },
  {
   "cell_type": "code",
   "execution_count": null,
   "id": "6dc7b93a-b664-4568-a247-889011067702",
   "metadata": {},
   "outputs": [],
   "source": []
  }
 ],
 "metadata": {
  "kernelspec": {
   "display_name": "Python 3 (ipykernel)",
   "language": "python",
   "name": "python3"
  },
  "language_info": {
   "codemirror_mode": {
    "name": "ipython",
    "version": 3
   },
   "file_extension": ".py",
   "mimetype": "text/x-python",
   "name": "python",
   "nbconvert_exporter": "python",
   "pygments_lexer": "ipython3",
   "version": "3.9.7"
  }
 },
 "nbformat": 4,
 "nbformat_minor": 5
}
